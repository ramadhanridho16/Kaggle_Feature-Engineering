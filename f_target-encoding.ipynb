{
 "cells": [
  {
   "cell_type": "markdown",
   "id": "7edc7770",
   "metadata": {
    "papermill": {
     "duration": 0.00469,
     "end_time": "2023-04-20T18:11:16.420417",
     "exception": false,
     "start_time": "2023-04-20T18:11:16.415727",
     "status": "completed"
    },
    "tags": []
   },
   "source": [
    "# Introduction #\n",
    "\n",
    "Most of the techniques we've seen in this course have been for numerical features. The technique we'll look at in this lesson, *target encoding*, is instead meant for categorical features. It's a method of encoding categories as numbers, like one-hot or label encoding, with the difference that it also uses the *target* to create the encoding. This makes it what we call a **supervised** feature engineering technique."
   ]
  },
  {
   "cell_type": "code",
   "execution_count": 2,
   "id": "cdcc1258",
   "metadata": {
    "_kg_hide-input": true,
    "execution": {
     "iopub.execute_input": "2023-04-20T18:11:16.432178Z",
     "iopub.status.busy": "2023-04-20T18:11:16.431151Z",
     "iopub.status.idle": "2023-04-20T18:11:16.467037Z",
     "shell.execute_reply": "2023-04-20T18:11:16.465533Z"
    },
    "papermill": {
     "duration": 0.046242,
     "end_time": "2023-04-20T18:11:16.470595",
     "exception": false,
     "start_time": "2023-04-20T18:11:16.424353",
     "status": "completed"
    },
    "tags": []
   },
   "outputs": [],
   "source": [
    "\n",
    "import pandas as pd\n",
    "\n",
    "autos = pd.read_csv(\"Data Sources/autos.csv\")"
   ]
  },
  {
   "cell_type": "markdown",
   "id": "77b3eec9",
   "metadata": {
    "lines_to_next_cell": 0,
    "papermill": {
     "duration": 0.00343,
     "end_time": "2023-04-20T18:11:16.478019",
     "exception": false,
     "start_time": "2023-04-20T18:11:16.474589",
     "status": "completed"
    },
    "tags": []
   },
   "source": [
    "# Target Encoding #\n",
    "\n",
    "A **target encoding** is any kind of encoding that replaces a feature's categories with some number derived from the target.\n",
    "\n",
    "A simple and effective version is to apply a group aggregation from Lesson 3, like the mean. Using the *Automobiles* dataset, this computes the average price of each vehicle's make:"
   ]
  },
  {
   "cell_type": "code",
   "execution_count": 3,
   "id": "a54df105",
   "metadata": {
    "execution": {
     "iopub.execute_input": "2023-04-20T18:11:16.488099Z",
     "iopub.status.busy": "2023-04-20T18:11:16.487063Z",
     "iopub.status.idle": "2023-04-20T18:11:16.527690Z",
     "shell.execute_reply": "2023-04-20T18:11:16.525791Z"
    },
    "papermill": {
     "duration": 0.049719,
     "end_time": "2023-04-20T18:11:16.531547",
     "exception": false,
     "start_time": "2023-04-20T18:11:16.481828",
     "status": "completed"
    },
    "tags": []
   },
   "outputs": [
    {
     "data": {
      "text/html": [
       "<div>\n",
       "<style scoped>\n",
       "    .dataframe tbody tr th:only-of-type {\n",
       "        vertical-align: middle;\n",
       "    }\n",
       "\n",
       "    .dataframe tbody tr th {\n",
       "        vertical-align: top;\n",
       "    }\n",
       "\n",
       "    .dataframe thead th {\n",
       "        text-align: right;\n",
       "    }\n",
       "</style>\n",
       "<table border=\"1\" class=\"dataframe\">\n",
       "  <thead>\n",
       "    <tr style=\"text-align: right;\">\n",
       "      <th></th>\n",
       "      <th>make</th>\n",
       "      <th>price</th>\n",
       "      <th>make_encoded</th>\n",
       "    </tr>\n",
       "  </thead>\n",
       "  <tbody>\n",
       "    <tr>\n",
       "      <th>0</th>\n",
       "      <td>alfa-romero</td>\n",
       "      <td>13495</td>\n",
       "      <td>15498.333333</td>\n",
       "    </tr>\n",
       "    <tr>\n",
       "      <th>1</th>\n",
       "      <td>alfa-romero</td>\n",
       "      <td>16500</td>\n",
       "      <td>15498.333333</td>\n",
       "    </tr>\n",
       "    <tr>\n",
       "      <th>2</th>\n",
       "      <td>alfa-romero</td>\n",
       "      <td>16500</td>\n",
       "      <td>15498.333333</td>\n",
       "    </tr>\n",
       "    <tr>\n",
       "      <th>3</th>\n",
       "      <td>audi</td>\n",
       "      <td>13950</td>\n",
       "      <td>17859.166667</td>\n",
       "    </tr>\n",
       "    <tr>\n",
       "      <th>4</th>\n",
       "      <td>audi</td>\n",
       "      <td>17450</td>\n",
       "      <td>17859.166667</td>\n",
       "    </tr>\n",
       "    <tr>\n",
       "      <th>5</th>\n",
       "      <td>audi</td>\n",
       "      <td>15250</td>\n",
       "      <td>17859.166667</td>\n",
       "    </tr>\n",
       "    <tr>\n",
       "      <th>6</th>\n",
       "      <td>audi</td>\n",
       "      <td>17710</td>\n",
       "      <td>17859.166667</td>\n",
       "    </tr>\n",
       "    <tr>\n",
       "      <th>7</th>\n",
       "      <td>audi</td>\n",
       "      <td>18920</td>\n",
       "      <td>17859.166667</td>\n",
       "    </tr>\n",
       "    <tr>\n",
       "      <th>8</th>\n",
       "      <td>audi</td>\n",
       "      <td>23875</td>\n",
       "      <td>17859.166667</td>\n",
       "    </tr>\n",
       "    <tr>\n",
       "      <th>9</th>\n",
       "      <td>bmw</td>\n",
       "      <td>16430</td>\n",
       "      <td>26118.750000</td>\n",
       "    </tr>\n",
       "  </tbody>\n",
       "</table>\n",
       "</div>"
      ],
      "text/plain": [
       "          make  price  make_encoded\n",
       "0  alfa-romero  13495  15498.333333\n",
       "1  alfa-romero  16500  15498.333333\n",
       "2  alfa-romero  16500  15498.333333\n",
       "3         audi  13950  17859.166667\n",
       "4         audi  17450  17859.166667\n",
       "5         audi  15250  17859.166667\n",
       "6         audi  17710  17859.166667\n",
       "7         audi  18920  17859.166667\n",
       "8         audi  23875  17859.166667\n",
       "9          bmw  16430  26118.750000"
      ]
     },
     "execution_count": 3,
     "metadata": {},
     "output_type": "execute_result"
    }
   ],
   "source": [
    "autos[\"make_encoded\"] = autos.groupby(\"make\")[\"price\"].transform(\"mean\")\n",
    "\n",
    "autos[[\"make\", \"price\", \"make_encoded\"]].head(10)"
   ]
  },
  {
   "cell_type": "markdown",
   "id": "77ee04f9",
   "metadata": {
    "papermill": {
     "duration": 0.003628,
     "end_time": "2023-04-20T18:11:16.539305",
     "exception": false,
     "start_time": "2023-04-20T18:11:16.535677",
     "status": "completed"
    },
    "tags": []
   },
   "source": [
    "This kind of target encoding is sometimes called a **mean encoding**. Applied to a binary target, it's also called **bin counting**. (Other names you might come across include: likelihood encoding, impact encoding, and leave-one-out encoding.)\n",
    "\n",
    "# Smoothing #\n",
    "\n",
    "An encoding like this presents a couple of problems, however. First are *unknown categories*. Target encodings create a special risk of overfitting, which means they need to be trained on an independent \"encoding\" split. When you join the encoding to future splits, Pandas will fill in missing values for any categories not present in the encoding split. These missing values you would have to impute somehow.\n",
    "\n",
    "Second are *rare categories*. When a category only occurs a few times in the dataset, any statistics calculated on its group are unlikely to be very accurate. In the *Automobiles* dataset, the `mercurcy` make only occurs once. The \"mean\" price we calculated is just the price of that one vehicle, which might not be very representative of any Mercuries we might see in the future. Target encoding rare categories can make overfitting more likely.\n",
    "\n",
    "A solution to these problems is to add **smoothing**. The idea is to blend the *in-category* average with the *overall* average. Rare categories get less weight on their category average, while missing categories just get the overall average.\n",
    "\n",
    "In pseudocode:\n",
    "```\n",
    "encoding = weight * in_category + (1 - weight) * overall\n",
    "```\n",
    "where `weight` is a value between 0 and 1 calculated from the category frequency.\n",
    "\n",
    "An easy way to determine the value for `weight` is to compute an **m-estimate**:\n",
    "```\n",
    "weight = n / (n + m)\n",
    "```\n",
    "where `n` is the total number of times that category occurs in the data. The parameter `m` determines the \"smoothing factor\". Larger values of `m` put more weight on the overall estimate.\n",
    "\n",
    "<figure style=\"padding: 1em;\">\n",
    "<img src=\"https://storage.googleapis.com/kaggle-media/learn/images/1uVtQEz.png\" width=500, alt=\"\">\n",
    "<figcaption style=\"textalign: center; font-style: italic\"><center>\n",
    "</center></figcaption>\n",
    "</figure>\n",
    "\n",
    "In the *Automobiles* dataset there are three cars with the make `chevrolet`. If you chose `m=2.0`, then the `chevrolet` category would be encoded with 60% of the average Chevrolet price plus 40% of the overall average price.\n",
    "```\n",
    "chevrolet = 0.6 * 6000.00 + 0.4 * 13285.03\n",
    "```\n",
    "\n",
    "When choosing a value for `m`, consider how noisy you expect the categories to be. Does the price of a vehicle vary a great deal within each make? Would you need a lot of data to get good estimates? If so, it could be better to choose a larger value for `m`; if the average price for each make were relatively stable, a smaller value could be okay.\n",
    "\n",
    "<strong>Use Cases for Target Encoding</strong><br>\n",
    "Target encoding is great for:\n",
    "<ul>\n",
    "<li><strong>High-cardinality features</strong>: A feature with a large number of categories can be troublesome to encode: a one-hot encoding would generate too many features and alternatives, like a label encoding, might not be appropriate for that feature. A target encoding derives numbers for the categories using the feature's most important property: its relationship with the target.\n",
    "<li><strong>Domain-motivated features</strong>: From prior experience, you might suspect that a categorical feature should be important even if it scored poorly with a feature metric. A target encoding can help reveal a feature's true informativeness.\n",
    "</ul>\n",
    "\n",
    "# Example - MovieLens1M #\n",
    "\n",
    "The [*MovieLens1M*](https://www.kaggle.com/grouplens/movielens-20m-dataset) dataset contains one-million movie ratings by users of the MovieLens website, with features describing each user and movie. This hidden cell sets everything up:"
   ]
  },
  {
   "cell_type": "code",
   "execution_count": 4,
   "id": "570055c8",
   "metadata": {
    "_kg_hide-input": true,
    "execution": {
     "iopub.execute_input": "2023-04-20T18:11:16.549735Z",
     "iopub.status.busy": "2023-04-20T18:11:16.548996Z",
     "iopub.status.idle": "2023-04-20T18:11:21.953736Z",
     "shell.execute_reply": "2023-04-20T18:11:21.952391Z"
    },
    "papermill": {
     "duration": 5.413234,
     "end_time": "2023-04-20T18:11:21.956433",
     "exception": false,
     "start_time": "2023-04-20T18:11:16.543199",
     "status": "completed"
    },
    "tags": []
   },
   "outputs": [
    {
     "name": "stderr",
     "output_type": "stream",
     "text": [
      "C:\\Users\\RAMADHAN\\AppData\\Local\\Temp\\ipykernel_11184\\925770516.py:7: MatplotlibDeprecationWarning: The seaborn styles shipped by Matplotlib are deprecated since 3.6, as they no longer correspond to the styles shipped by seaborn. However, they will remain available as 'seaborn-v0_8-<style>'. Alternatively, directly use the seaborn API instead.\n",
      "  plt.style.use(\"seaborn-whitegrid\")\n"
     ]
    },
    {
     "name": "stdout",
     "output_type": "stream",
     "text": [
      "Number of Unique Zipcodes: 3439\n"
     ]
    }
   ],
   "source": [
    "\n",
    "import matplotlib.pyplot as plt\n",
    "import numpy as np\n",
    "import pandas as pd\n",
    "import seaborn as sns\n",
    "import warnings\n",
    "\n",
    "plt.style.use(\"seaborn-whitegrid\")\n",
    "plt.rc(\"figure\", autolayout=True)\n",
    "plt.rc(\n",
    "    \"axes\",\n",
    "    labelweight=\"bold\",\n",
    "    labelsize=\"large\",\n",
    "    titleweight=\"bold\",\n",
    "    titlesize=14,\n",
    "    titlepad=10,\n",
    ")\n",
    "warnings.filterwarnings('ignore')\n",
    "\n",
    "\n",
    "df = pd.read_csv(\"Data Sources\\movielens1m.csv\")\n",
    "df = df.astype(np.uint8, errors='ignore') # reduce memory footprint\n",
    "print(\"Number of Unique Zipcodes: {}\".format(df[\"Zipcode\"].nunique()))"
   ]
  },
  {
   "cell_type": "code",
   "execution_count": 9,
   "metadata": {},
   "outputs": [
    {
     "data": {
      "text/plain": [
       "Index(['Movie ID', 'Action', 'Adventure', 'Animation', 'Children', 'Comedy',\n",
       "       'Crime', 'Documentary', 'Drama', 'Fantasy', 'Film-Noir', 'Horror',\n",
       "       'IMAX', 'Musical', 'Mystery', 'Romance', 'Sci-Fi', 'Thriller',\n",
       "       'Unknown', 'War', 'Western', '(no genres listed)', 'User ID', 'Age',\n",
       "       'Gender', 'Occupation', 'Zipcode', 'Rating'],\n",
       "      dtype='object')"
      ]
     },
     "execution_count": 9,
     "metadata": {},
     "output_type": "execute_result"
    }
   ],
   "source": [
    "df.columns"
   ]
  },
  {
   "cell_type": "markdown",
   "id": "426dff38",
   "metadata": {
    "papermill": {
     "duration": 0.004246,
     "end_time": "2023-04-20T18:11:21.965258",
     "exception": false,
     "start_time": "2023-04-20T18:11:21.961012",
     "status": "completed"
    },
    "tags": []
   },
   "source": [
    "With over 3000 categories, the `Zipcode` feature makes a good candidate for target encoding, and the size of this dataset (over one-million rows) means we can spare some data to create the encoding.\n",
    "\n",
    "We'll start by creating a 25% split to train the target encoder."
   ]
  },
  {
   "cell_type": "code",
   "execution_count": 10,
   "id": "a136a227",
   "metadata": {
    "execution": {
     "iopub.execute_input": "2023-04-20T18:11:21.976912Z",
     "iopub.status.busy": "2023-04-20T18:11:21.976468Z",
     "iopub.status.idle": "2023-04-20T18:11:22.451101Z",
     "shell.execute_reply": "2023-04-20T18:11:22.449710Z"
    },
    "papermill": {
     "duration": 0.484464,
     "end_time": "2023-04-20T18:11:22.455179",
     "exception": false,
     "start_time": "2023-04-20T18:11:21.970715",
     "status": "completed"
    },
    "tags": []
   },
   "outputs": [],
   "source": [
    "X = df.copy()\n",
    "y = X.pop('Rating')\n",
    "\n",
    "X_encode = X.sample(frac=0.25)\n",
    "y_encode = y[X_encode.index]\n",
    "X_pretrain = X.drop(X_encode.index)\n",
    "y_train = y[X_pretrain.index]"
   ]
  },
  {
   "cell_type": "code",
   "execution_count": 11,
   "metadata": {},
   "outputs": [
    {
     "data": {
      "text/plain": [
       "0          5\n",
       "1          4\n",
       "2          1\n",
       "3          5\n",
       "4          4\n",
       "          ..\n",
       "1000204    4\n",
       "1000205    1\n",
       "1000206    5\n",
       "1000207    3\n",
       "1000208    3\n",
       "Name: Rating, Length: 1000209, dtype: uint8"
      ]
     },
     "execution_count": 11,
     "metadata": {},
     "output_type": "execute_result"
    }
   ],
   "source": [
    "y"
   ]
  },
  {
   "cell_type": "markdown",
   "id": "752ebda0",
   "metadata": {
    "papermill": {
     "duration": 0.003727,
     "end_time": "2023-04-20T18:11:22.463313",
     "exception": false,
     "start_time": "2023-04-20T18:11:22.459586",
     "status": "completed"
    },
    "tags": []
   },
   "source": [
    "The `category_encoders` package in `scikit-learn-contrib` implements an m-estimate encoder, which we'll use to encode our `Zipcode` feature."
   ]
  },
  {
   "cell_type": "code",
   "execution_count": 15,
   "id": "b8d8f0e7",
   "metadata": {
    "execution": {
     "iopub.execute_input": "2023-04-20T18:11:22.473369Z",
     "iopub.status.busy": "2023-04-20T18:11:22.472938Z",
     "iopub.status.idle": "2023-04-20T18:11:24.221833Z",
     "shell.execute_reply": "2023-04-20T18:11:24.220580Z"
    },
    "papermill": {
     "duration": 1.757573,
     "end_time": "2023-04-20T18:11:24.224929",
     "exception": false,
     "start_time": "2023-04-20T18:11:22.467356",
     "status": "completed"
    },
    "tags": []
   },
   "outputs": [],
   "source": [
    "from category_encoders import MEstimateEncoder\n",
    "\n",
    "# Create the encoder instance. Choose m to control noise.\n",
    "encoder = MEstimateEncoder(cols=[\"Zipcode\"], m=5.0)\n",
    "\n",
    "# Fit the encoder on the encoding split.\n",
    "encoder.fit(X_encode, y_encode)\n",
    "\n",
    "# Encode the Zipcode column to create the final training data\n",
    "X_train = encoder.transform(X_pretrain)"
   ]
  },
  {
   "cell_type": "markdown",
   "id": "6469a9c7",
   "metadata": {
    "papermill": {
     "duration": 0.003957,
     "end_time": "2023-04-20T18:11:24.233109",
     "exception": false,
     "start_time": "2023-04-20T18:11:24.229152",
     "status": "completed"
    },
    "tags": []
   },
   "source": [
    "Let's compare the encoded values to the target to see how informative our encoding might be."
   ]
  },
  {
   "cell_type": "code",
   "execution_count": 16,
   "id": "2998ffa7",
   "metadata": {
    "execution": {
     "iopub.execute_input": "2023-04-20T18:11:24.244840Z",
     "iopub.status.busy": "2023-04-20T18:11:24.244058Z",
     "iopub.status.idle": "2023-04-20T18:11:28.528158Z",
     "shell.execute_reply": "2023-04-20T18:11:28.526264Z"
    },
    "papermill": {
     "duration": 4.293438,
     "end_time": "2023-04-20T18:11:28.531287",
     "exception": false,
     "start_time": "2023-04-20T18:11:24.237849",
     "status": "completed"
    },
    "tags": []
   },
   "outputs": [
    {
     "data": {
      "image/png": "[encoded data removed]",
      "text/plain": [
       "<Figure size 576x432 with 1 Axes>"
      ]
     },
     "metadata": {},
     "output_type": "display_data"
    }
   ],
   "source": [
    "plt.figure(dpi=90)\n",
    "ax = sns.distplot(y, kde=False, norm_hist=True)\n",
    "ax = sns.kdeplot(X_train.Zipcode, color='r', ax=ax)\n",
    "ax.set_xlabel(\"Rating\")\n",
    "ax.legend(labels=['Zipcode', 'Rating']);"
   ]
  },
  {
   "cell_type": "markdown",
   "id": "190d0166",
   "metadata": {
    "papermill": {
     "duration": 0.00423,
     "end_time": "2023-04-20T18:11:28.540202",
     "exception": false,
     "start_time": "2023-04-20T18:11:28.535972",
     "status": "completed"
    },
    "tags": []
   },
   "source": [
    "The distribution of the encoded `Zipcode` feature roughly follows the distribution of the actual ratings, meaning that movie-watchers differed enough in their ratings from zipcode to zipcode that our target encoding was able to capture useful information.\n",
    "\n",
    "# Your Turn #\n",
    "\n",
    "[**Apply target encoding**](https://www.kaggle.com/kernels/fork/14393917) to features in *Ames* and investigate a surprising way that target encoding can lead to overfitting."
   ]
  },
  {
   "cell_type": "markdown",
   "id": "92c6efe0",
   "metadata": {
    "papermill": {
     "duration": 0.004261,
     "end_time": "2023-04-20T18:11:28.549126",
     "exception": false,
     "start_time": "2023-04-20T18:11:28.544865",
     "status": "completed"
    },
    "tags": []
   },
   "source": [
    "---\n",
    "\n",
    "\n",
    "\n",
    "\n",
    "*Have questions or comments? Visit the [course discussion forum](https://www.kaggle.com/learn/feature-engineering/discussion) to chat with other learners.*"
   ]
  }
 ],
 "metadata": {
  "jupytext": {
   "cell_metadata_filter": "-all",
   "formats": "ipynb"
  },
  "kernelspec": {
   "display_name": "Python 3",
   "language": "python",
   "name": "python3"
  },
  "language_info": {
   "codemirror_mode": {
    "name": "ipython",
    "version": 3
   },
   "file_extension": ".py",
   "mimetype": "text/x-python",
   "name": "python",
   "nbconvert_exporter": "python",
   "pygments_lexer": "ipython3",
   "version": "3.10.1"
  },
  "papermill": {
   "default_parameters": {},
   "duration": 24.001919,
   "end_time": "2023-04-20T18:11:29.478166",
   "environment_variables": {},
   "exception": null,
   "input_path": "__notebook__.ipynb",
   "output_path": "__notebook__.ipynb",
   "parameters": {},
   "start_time": "2023-04-20T18:11:05.476247",
   "version": "2.4.0"
  }
 },
 "nbformat": 4,
 "nbformat_minor": 5
}
